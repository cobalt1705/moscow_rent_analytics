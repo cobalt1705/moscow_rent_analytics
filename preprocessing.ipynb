{
 "cells": [
  {
   "attachments": {},
   "cell_type": "markdown",
   "metadata": {},
   "source": [
    "# Начало анализа"
   ]
  },
  {
   "cell_type": "code",
   "execution_count": 92,
   "metadata": {},
   "outputs": [
    {
     "name": "stdout",
     "output_type": "stream",
     "text": [
      "<class 'pandas.core.frame.DataFrame'>\n",
      "Index: 23368 entries, 0 to 23367\n",
      "Data columns (total 24 columns):\n",
      " #   Column                    Non-Null Count  Dtype  \n",
      "---  ------                    --------------  -----  \n",
      " 0   ID  объявления            23368 non-null  int64  \n",
      " 1   Количество комнат         22327 non-null  object \n",
      " 2   Тип                       23368 non-null  object \n",
      " 3   Метро                     22053 non-null  object \n",
      " 4   Адрес                     23368 non-null  object \n",
      " 5   Площадь, м2               23368 non-null  object \n",
      " 6   Дом                       23368 non-null  object \n",
      " 7   Парковка                  9951 non-null   object \n",
      " 8   Цена                      23368 non-null  object \n",
      " 9   Телефоны                  23368 non-null  object \n",
      " 10  Описание                  23368 non-null  object \n",
      " 11  Ремонт                    20613 non-null  object \n",
      " 12  Площадь комнат, м2        14458 non-null  object \n",
      " 13  Балкон                    15390 non-null  object \n",
      " 14  Окна                      16755 non-null  object \n",
      " 15  Санузел                   20696 non-null  object \n",
      " 16  Можно с детьми/животными  17272 non-null  object \n",
      " 17  Дополнительно             23011 non-null  object \n",
      " 18  Название ЖК               5848 non-null   object \n",
      " 19  Серия дома                2163 non-null   object \n",
      " 20  Высота потолков, м        11206 non-null  float64\n",
      " 21  Лифт                      17868 non-null  object \n",
      " 22  Мусоропровод              12846 non-null  object \n",
      " 23  Ссылка на объявление      23368 non-null  object \n",
      "dtypes: float64(1), int64(1), object(22)\n",
      "memory usage: 4.5+ MB\n"
     ]
    }
   ],
   "source": [
    "import pandas as pd\n",
    "# from currency_converter import CurrencyConverter\n",
    "\n",
    "\n",
    "\n",
    "df = pd.read_csv('_data.csv', index_col=0)\n",
    "# df.columns\n",
    "# df['ID  объявления'].value_counts()\n",
    "# df.head(30)\n",
    "df.info()\n",
    "# df['Количество комнат'].value_counts()\n",
    "# df.loc[:15, 'Площадь, м2']"
   ]
  },
  {
   "attachments": {},
   "cell_type": "markdown",
   "metadata": {},
   "source": [
    "### Достаем данные Москвы"
   ]
  },
  {
   "cell_type": "code",
   "execution_count": 93,
   "metadata": {},
   "outputs": [
    {
     "data": {
      "text/plain": [
       "(19737, 25)"
      ]
     },
     "execution_count": 93,
     "metadata": {},
     "output_type": "execute_result"
    }
   ],
   "source": [
    "# Город\n",
    "df['city'] = [row.split(',')[0] if isinstance(row, str) else row for row in df['Адрес']]\n",
    "df['city'].value_counts()\n",
    "# df_msk = df[df['Адрес'].str.contains(\"Москва\")].reset_index(drop = True)\n",
    "df = df[df['city']=='Москва']\n",
    "df.shape"
   ]
  },
  {
   "attachments": {},
   "cell_type": "markdown",
   "metadata": {},
   "source": [
    "## Работаем с пропусками"
   ]
  },
  {
   "cell_type": "code",
   "execution_count": 94,
   "metadata": {},
   "outputs": [
    {
     "data": {
      "text/plain": [
       "ID  объявления                  0\n",
       "Количество комнат             535\n",
       "Тип                             0\n",
       "Метро                         346\n",
       "Адрес                           0\n",
       "Площадь, м2                     0\n",
       "Дом                             0\n",
       "Парковка                    11174\n",
       "Цена                            0\n",
       "Телефоны                        0\n",
       "Описание                        0\n",
       "Ремонт                       2463\n",
       "Площадь комнат, м2           7228\n",
       "Балкон                       6630\n",
       "Окна                         5150\n",
       "Санузел                      2041\n",
       "Можно с детьми/животными     4915\n",
       "Дополнительно                 272\n",
       "Название ЖК                 15281\n",
       "Серия дома                  17646\n",
       "Высота потолков, м           9202\n",
       "Лифт                         4192\n",
       "Мусоропровод                 8007\n",
       "Ссылка на объявление            0\n",
       "city                            0\n",
       "dtype: int64"
      ]
     },
     "execution_count": 94,
     "metadata": {},
     "output_type": "execute_result"
    }
   ],
   "source": [
    "# Cмотрим NaN значения\n",
    "df.isna().sum()"
   ]
  },
  {
   "attachments": {},
   "cell_type": "markdown",
   "metadata": {},
   "source": [
    "### Комнаты"
   ]
  },
  {
   "cell_type": "code",
   "execution_count": 95,
   "metadata": {},
   "outputs": [],
   "source": [
    "# Получаем количество комнат\n",
    "df.loc[:,'Число комнат'] = [row.split(',')[0] if isinstance(row, str) else row for row in df['Количество комнат']]\n",
    "df['Число комнат'].unique()\n",
    "df['Число комнат'].value_counts()\n",
    "df['Число комнат'].isna().sum()\n",
    "\n",
    "# Анализ выборки NaN в графе комнат показал, что это квартиры-студии, заменим NaN на 0\n",
    "df.loc[df['Число комнат'].isna()]['Описание'].head()\n",
    "df['Число комнат'].fillna(0, inplace=True)"
   ]
  },
  {
   "attachments": {},
   "cell_type": "markdown",
   "metadata": {},
   "source": [
    "### Метро"
   ]
  },
  {
   "cell_type": "code",
   "execution_count": 96,
   "metadata": {},
   "outputs": [
    {
     "data": {
      "text/plain": [
       "189      Мебель в комнатах, Мебель на кухне, Стиральная...\n",
       "233      Мебель в комнатах, Мебель на кухне, Душевая ка...\n",
       "244      Мебель в комнатах, Мебель на кухне, Ванна, Сти...\n",
       "267      Мебель в комнатах, Мебель на кухне, Ванна, Сти...\n",
       "745                                               Интернет\n",
       "                               ...                        \n",
       "21970    Мебель в комнатах, Мебель на кухне, Стиральная...\n",
       "21971    Мебель в комнатах, Мебель на кухне, Стиральная...\n",
       "22160    Мебель в комнатах, Мебель на кухне, Стиральная...\n",
       "23273            Стиральная машина, Телевизор, Холодильник\n",
       "23317                       Стиральная машина, Холодильник\n",
       "Name: Дополнительно, Length: 346, dtype: object"
      ]
     },
     "execution_count": 96,
     "metadata": {},
     "output_type": "execute_result"
    }
   ],
   "source": [
    "# Колонка метро\n",
    "df['Метро2'] = [row.split(' (')[0] if isinstance(row, str) else row for row in df['Метро']]\n",
    "df['Метро2'] = [row.split('. ')[1] if isinstance(row, str) else row for row in df['Метро2']]\n",
    "\n",
    "# df['Метро2'].fillna('Неизвестно', inplace=True)\n",
    "df['Метро2'].isna().sum()\n",
    "\n",
    "df['maybe_subway'] = df['Описание'].str.contains('метро', regex=False)\n",
    "df['maybe_subway']\n",
    "\n",
    "# нельзя из Описания вытащить новые станции метро \n",
    "df.loc[(df['Метро2'].isna()) & (df['maybe_subway']==True)]['Метро2'].count()\n",
    "df.loc[df['Метро'].isna()]['Дополнительно']"
   ]
  },
  {
   "attachments": {},
   "cell_type": "markdown",
   "metadata": {},
   "source": [
    "### Адрес"
   ]
  },
  {
   "cell_type": "code",
   "execution_count": 97,
   "metadata": {},
   "outputs": [
    {
     "data": {
      "text/plain": [
       "За_МКАД\n",
       "0    18187\n",
       "1     1550\n",
       "Name: count, dtype: int64"
      ]
     },
     "execution_count": 97,
     "metadata": {},
     "output_type": "execute_result"
    }
   ],
   "source": [
    "# Создаем переменную \"за мкадом\"\n",
    "df['Адрес'].unique()\n",
    "df['За_МКАД'] = df['Адрес'].apply(lambda x: 1 if 'мкад' in str(x).lower() else 0)\n",
    "df['За_МКАД'].value_counts()"
   ]
  },
  {
   "cell_type": "code",
   "execution_count": 98,
   "metadata": {},
   "outputs": [],
   "source": [
    "# Удаляем концы адреса по типу \"ш. Варшавское (4 км до МКАД)\"\n",
    "df['Новый Адрес'] = [row.split('ш. ')[0] for row in df['Адрес']]\n",
    "# df_msk = df_msk[df_msk['Адрес'] != 'Москва, Жилой Поколение кв-л'].reset_index(drop = True)"
   ]
  },
  {
   "cell_type": "code",
   "execution_count": 99,
   "metadata": {},
   "outputs": [],
   "source": [
    "# Привязать адрес к районам / спарсить \"садовое\" из описания\n",
    "\n",
    "# TBD!\n"
   ]
  },
  {
   "attachments": {},
   "cell_type": "markdown",
   "metadata": {},
   "source": [
    "### Площадь"
   ]
  },
  {
   "cell_type": "code",
   "execution_count": 100,
   "metadata": {},
   "outputs": [
    {
     "data": {
      "text/plain": [
       "0        200\n",
       "1        198\n",
       "2        200\n",
       "3        170\n",
       "4         58\n",
       "        ... \n",
       "23363     35\n",
       "23364     38\n",
       "23365     43\n",
       "23366     52\n",
       "23367     90\n",
       "Name: total_square, Length: 19737, dtype: int64"
      ]
     },
     "execution_count": 100,
     "metadata": {},
     "output_type": "execute_result"
    }
   ],
   "source": [
    "df['Площадь, м2'].unique()\n",
    "# Получим общую площадь квартиры\n",
    "df['total_square'] = [row.split('.')[0] if isinstance(row, str) else row for row in df['Площадь, м2']]\n",
    "df['total_square'].astype(int)\n",
    "# df['total_square'].unique()"
   ]
  },
  {
   "cell_type": "code",
   "execution_count": 101,
   "metadata": {},
   "outputs": [],
   "source": [
    "# получим площадь кухни\n",
    "df['Площадь, м2'].unique()\n",
    "df['kitchen_square'] = [row.split('/')[-1] if isinstance(row, str) else row for row in df['Площадь, м2']]\n",
    "# df_msk[['Площадь, м2', 'kitchen_square']]\n",
    "# df_msk['kitchen_square'].isna().sum()"
   ]
  },
  {
   "attachments": {},
   "cell_type": "markdown",
   "metadata": {},
   "source": [
    "### Животные и дети"
   ]
  },
  {
   "cell_type": "code",
   "execution_count": 102,
   "metadata": {},
   "outputs": [],
   "source": [
    "df['Можно с детьми/животными'].unique()\n",
    "df['ok_pets'] = df['Можно с детьми/животными'].apply(lambda x: 1 if 'животными' in str(x).lower() else 0)\n",
    "df['ok_kids'] = df['Можно с детьми/животными'].apply(lambda x: 1 if 'детьми' in str(x).lower() else 0)\n",
    "# df_msk['ok_kids'].sum()\n",
    "# df_msk['ok_pets'].sum()"
   ]
  },
  {
   "attachments": {},
   "cell_type": "markdown",
   "metadata": {},
   "source": [
    "### Балкон"
   ]
  },
  {
   "cell_type": "code",
   "execution_count": 103,
   "metadata": {},
   "outputs": [],
   "source": [
    "df['Балкон'].unique()\n",
    "\n",
    "df['Число балконов'] = df['Балкон'].str.extract(r'Балкон \\((\\d+)\\)').astype(float)\n",
    "df['Число лоджий'] = df['Балкон'].str.extract(r'Лоджия \\((\\d+)\\)').astype(float)\n",
    "\n",
    "df['Число балконов'].isna().sum()\n",
    "df['Число балконов'] = df['Число балконов'].fillna(df['Число балконов'].mean())\n",
    "# df_msk['Число балконов'].isna().sum()\n",
    "df['Число лоджий'].isna().sum()\n",
    "df['Число лоджий'] = df['Число лоджий'].fillna(df['Число лоджий'].mean())"
   ]
  },
  {
   "attachments": {},
   "cell_type": "markdown",
   "metadata": {},
   "source": [
    "### Санузел"
   ]
  },
  {
   "cell_type": "code",
   "execution_count": 104,
   "metadata": {},
   "outputs": [],
   "source": [
    "df['Санузел']\n",
    "df['Число совмещенных су'] = df['Санузел'].str.extract(r'Совмещенный \\((\\d+)\\)').astype(float)\n",
    "df['Число раздельных су'] = df['Санузел'].str.extract(r'Раздельный \\((\\d+)\\)').astype(float)\n",
    "\n",
    "df['Число совмещенных су'] = df['Число совмещенных су'].fillna(df['Число совмещенных су'].mean())\n",
    "df['Число раздельных су'] = df['Число раздельных су'].fillna(df['Число раздельных су'].mean())\n",
    "# df_msk['Число совмещенных су'].isna().sum()"
   ]
  },
  {
   "attachments": {},
   "cell_type": "markdown",
   "metadata": {},
   "source": [
    "### Мебель и кондиционер"
   ]
  },
  {
   "cell_type": "code",
   "execution_count": 105,
   "metadata": {},
   "outputs": [],
   "source": [
    "df['Дополнительно']\n",
    "# Мебель в комнатах\n",
    "# Кондиционер\n",
    "df['Есть мебель'] = df['Дополнительно'].str.extract('(ебель в комнатах)',).astype(str)\n",
    "df['Есть кондиционер'] = df['Дополнительно'].str.extract('(ондиционер)',).astype(str)\n",
    "\n",
    "df['Есть мебель'] = [1 if 'ебель в комнатах' in row else 0 for row in df['Есть мебель']]\n",
    "df['Есть кондиционер'] = [1 if 'ондиционер' in row else 0 for row in df['Есть кондиционер']]\n"
   ]
  },
  {
   "attachments": {},
   "cell_type": "markdown",
   "metadata": {},
   "source": [
    "### Парковка"
   ]
  },
  {
   "cell_type": "code",
   "execution_count": 106,
   "metadata": {},
   "outputs": [],
   "source": [
    "df['Парковка'] = df['Парковка'].replace(to_replace ='открытая', value = 'бесплатная во дворе')\n",
    "df['Парковка'] = df['Парковка'].replace(to_replace ='наземная', value = 'платная во дворе')\n",
    "df['Парковка'] = df['Парковка'].replace(to_replace ='многоуровневая', value = 'платная во дворе')\n",
    "df['Парковка'] = df['Парковка'].replace(to_replace ='подземная', value = 'платная во дворе')\n",
    "df['Парковка'] = df['Парковка'].replace(to_replace ='на крыше', value = 'платная во дворе')\n",
    "df['Парковка'] = df['Парковка'].fillna('бесплатная во дворе')\n",
    "df['Parking'] = df['Парковка']\n",
    "df = df.drop(['Парковка'], axis = 1)"
   ]
  },
  {
   "attachments": {},
   "cell_type": "markdown",
   "metadata": {},
   "source": [
    "### Дом (тип, этажность, этаж)"
   ]
  },
  {
   "cell_type": "code",
   "execution_count": 107,
   "metadata": {},
   "outputs": [],
   "source": [
    "df['house_type'] = [row.split(', ')[-1] if len(row.split(', ')[-1]) > 6 else 'Неизвестно' for row in df['Дом']]\n",
    "df['floors_amount'] = [int(row.split('/')[1].split(',')[0]) for row in df['Дом']]\n",
    "df['flat_floor'] = [int(row.split('/')[0]) for row in df['Дом']]\n",
    "df = df.drop(['Дом'], axis = 1)"
   ]
  },
  {
   "attachments": {},
   "cell_type": "markdown",
   "metadata": {},
   "source": [
    "### Цена\n"
   ]
  },
  {
   "cell_type": "code",
   "execution_count": 108,
   "metadata": {},
   "outputs": [
    {
     "ename": "NameError",
     "evalue": "name 'CurrencyConverter' is not defined",
     "output_type": "error",
     "traceback": [
      "\u001b[0;31m---------------------------------------------------------------------------\u001b[0m",
      "\u001b[0;31mNameError\u001b[0m                                 Traceback (most recent call last)",
      "Cell \u001b[0;32mIn[108], line 1\u001b[0m\n\u001b[0;32m----> 1\u001b[0m c \u001b[39m=\u001b[39m CurrencyConverter()\n\u001b[1;32m      2\u001b[0m \u001b[39mdef\u001b[39;00m \u001b[39msale\u001b[39m(text):\n\u001b[1;32m      3\u001b[0m     result \u001b[39m=\u001b[39m \u001b[39mNone\u001b[39;00m\n",
      "\u001b[0;31mNameError\u001b[0m: name 'CurrencyConverter' is not defined"
     ]
    }
   ],
   "source": [
    "c = CurrencyConverter()\n",
    "def sale(text):\n",
    "    result = None\n",
    "    if text.split(' ')[1] == 'руб./':\n",
    "        result = float(text.split(' ')[0])\n",
    "    elif text.split(' ')[1] == '$,':\n",
    "        result = c.convert(float(text.split(' ')[0]), 'USD', 'RUB')\n",
    "    elif text.split(' ')[1] == '€,':\n",
    "        result = c.convert(float(text.split(' ')[0]), 'EUR', 'RUB')\n",
    "    return result\n",
    "text = df['Цена']\n",
    "text = text.apply(sale)\n",
    "df['Price'] = text"
   ]
  },
  {
   "cell_type": "code",
   "execution_count": 109,
   "metadata": {},
   "outputs": [],
   "source": [
    "# влючена ли комуналка\n",
    "df['Utilities'] = df['Цена'].str.contains('Коммунальные услуги включены')\n",
    "df['Rent_length'] = df['Цена'].str.contains('Срок аренды - Длительный')\n",
    "df['Prepay'] = df['Цена'].str.contains('Предоплата')"
   ]
  },
  {
   "cell_type": "code",
   "execution_count": 110,
   "metadata": {},
   "outputs": [],
   "source": [
    "# лифты\n",
    "\n",
    "df['Лифт'] = [\n",
    "    row if row == row else\n",
    "    ['Пасс (0), Груз (0)' if 5 >= df['floors_amount'].iloc[i]  else\n",
    "     'Пасс (1), Груз (0)' if 5 <= df['floors_amount'].iloc[i] <= 9  else\n",
    "     'Пасс (1), Груз (1)' if 10 <= df['floors_amount'].iloc[i] <= 19 else\n",
    "     'Пасс (2), Груз (1)'][0]\n",
    "    for i, row in enumerate(df['Лифт'])\n",
    "]\n",
    "df['Pass_elevator'] = [row.split(' ')[1] if (row.split(' ')[0]) == 'Пасс' else '(0)' for row in df['Лифт']]\n",
    "df['Cargo_elevator'] = [row.split(' ')[-1] if (row.split(' ')[-2]) == 'Груз' else '(0)' for row in df['Лифт']]\n",
    "\n",
    "df['Pass_elevator'] = [row.split('(')[1] for row in df['Pass_elevator']]\n",
    "df['Pass_elevator'] = [int(row.split(')')[0]) for row in df['Pass_elevator']]\n",
    "df['Cargo_elevator'] = [row.split('(')[1] for row in df['Cargo_elevator']]\n",
    "df['Cargo_elevator'] = [int(row.split(')')[0]) for row in df['Cargo_elevator']]\n",
    "df = df.drop(['Лифт'], axis = 1)"
   ]
  },
  {
   "attachments": {},
   "cell_type": "markdown",
   "metadata": {},
   "source": [
    "### Окна, потолки, мусоропровод, ремонт"
   ]
  },
  {
   "cell_type": "code",
   "execution_count": 111,
   "metadata": {},
   "outputs": [],
   "source": [
    "df['windows'] = df[\"Окна\"].fillna('Во двор')"
   ]
  },
  {
   "cell_type": "code",
   "execution_count": 112,
   "metadata": {},
   "outputs": [],
   "source": [
    "df['ceiling_height'] = df['Высота потолков, м'].fillna(round(df['Высота потолков, м'].mean(), 2))"
   ]
  },
  {
   "cell_type": "code",
   "execution_count": 113,
   "metadata": {},
   "outputs": [],
   "source": [
    "df['Garbage_disposal'] = df['Мусоропровод'].fillna('Нет')"
   ]
  },
  {
   "cell_type": "code",
   "execution_count": 114,
   "metadata": {},
   "outputs": [],
   "source": [
    "df['maintenance'] = df['Ремонт'].fillna('Без ремонта')"
   ]
  },
  {
   "attachments": {},
   "cell_type": "markdown",
   "metadata": {},
   "source": [
    "### Удаление старых / лишних колонок"
   ]
  },
  {
   "cell_type": "code",
   "execution_count": 119,
   "metadata": {},
   "outputs": [],
   "source": [
    "df.columns\n",
    "\n",
    "df.drop(['ID  объявления', 'Площадь, м2', 'Количество комнат', 'Тип', 'Адрес', 'Цена', 'Телефоны', 'Описание',\n",
    "'Ремонт', 'Площадь комнат, м2', 'Балкон', 'Окна', 'Санузел', 'Можно с детьми/животными', 'Дополнительно', 'Название ЖК', 'Серия дома', 'Высота потолков, м', 'Мусоропровод',\n",
    "'Ссылка на объявление', 'city', 'maybe_subway'], axis=1, inplace=True)\n",
    "\n",
    "# df.drop(['ID  объявления'], inplace=True)"
   ]
  },
  {
   "cell_type": "code",
   "execution_count": 120,
   "metadata": {},
   "outputs": [
    {
     "data": {
      "text/plain": [
       "Метро                   346\n",
       "Число комнат              0\n",
       "Метро2                  346\n",
       "За_МКАД                   0\n",
       "Новый Адрес               0\n",
       "total_square              0\n",
       "kitchen_square            0\n",
       "ok_pets                   0\n",
       "ok_kids                   0\n",
       "Число балконов            0\n",
       "Число лоджий              0\n",
       "Число совмещенных су      0\n",
       "Число раздельных су       0\n",
       "Есть мебель               0\n",
       "Есть кондиционер          0\n",
       "Parking                   0\n",
       "house_type                0\n",
       "floors_amount             0\n",
       "flat_floor                0\n",
       "Utilities                 0\n",
       "Rent_length               0\n",
       "Prepay                    0\n",
       "Pass_elevator             0\n",
       "Cargo_elevator            0\n",
       "windows                   0\n",
       "ceiling_height            0\n",
       "Garbage_disposal          0\n",
       "maintenance               0\n",
       "dtype: int64"
      ]
     },
     "execution_count": 120,
     "metadata": {},
     "output_type": "execute_result"
    }
   ],
   "source": [
    "df.isna().sum()"
   ]
  },
  {
   "cell_type": "code",
   "execution_count": 121,
   "metadata": {},
   "outputs": [
    {
     "data": {
      "text/plain": [
       "Метро                    object\n",
       "Число комнат             object\n",
       "Метро2                   object\n",
       "За_МКАД                   int64\n",
       "Новый Адрес              object\n",
       "total_square             object\n",
       "kitchen_square           object\n",
       "ok_pets                   int64\n",
       "ok_kids                   int64\n",
       "Число балконов          float64\n",
       "Число лоджий            float64\n",
       "Число совмещенных су    float64\n",
       "Число раздельных су     float64\n",
       "Есть мебель               int64\n",
       "Есть кондиционер          int64\n",
       "Parking                  object\n",
       "house_type               object\n",
       "floors_amount             int64\n",
       "flat_floor                int64\n",
       "Utilities                  bool\n",
       "Rent_length                bool\n",
       "Prepay                     bool\n",
       "Pass_elevator             int64\n",
       "Cargo_elevator            int64\n",
       "windows                  object\n",
       "ceiling_height          float64\n",
       "Garbage_disposal         object\n",
       "maintenance              object\n",
       "dtype: object"
      ]
     },
     "execution_count": 121,
     "metadata": {},
     "output_type": "execute_result"
    }
   ],
   "source": [
    "df.dtypes"
   ]
  },
  {
   "cell_type": "code",
   "execution_count": 122,
   "metadata": {},
   "outputs": [
    {
     "data": {
      "text/plain": [
       "0        Смоленская\n",
       "1        Смоленская\n",
       "2        Смоленская\n",
       "3        Смоленская\n",
       "4         Арбатская\n",
       "            ...    \n",
       "23363      Говорово\n",
       "23364      Солнцево\n",
       "23365      Солнцево\n",
       "23366      Солнцево\n",
       "23367      Говорово\n",
       "Name: Метро2, Length: 19737, dtype: object"
      ]
     },
     "execution_count": 122,
     "metadata": {},
     "output_type": "execute_result"
    }
   ],
   "source": [
    "df['Метро2']"
   ]
  }
 ],
 "metadata": {
  "kernelspec": {
   "display_name": "base",
   "language": "python",
   "name": "python3"
  },
  "language_info": {
   "codemirror_mode": {
    "name": "ipython",
    "version": 3
   },
   "file_extension": ".py",
   "mimetype": "text/x-python",
   "name": "python",
   "nbconvert_exporter": "python",
   "pygments_lexer": "ipython3",
   "version": "3.10.10"
  },
  "orig_nbformat": 4
 },
 "nbformat": 4,
 "nbformat_minor": 2
}
